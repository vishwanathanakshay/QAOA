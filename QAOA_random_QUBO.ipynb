{
 "cells": [
  {
   "cell_type": "code",
   "execution_count": 1,
   "id": "831b2f71",
   "metadata": {},
   "outputs": [],
   "source": [
    "import numpy as np\n",
    "from QAOA import QAOA_class as QA\n",
    "import networkx as nx\n",
    "import matplotlib.pyplot as plt \n",
    "from IPython.display import clear_output"
   ]
  },
  {
   "cell_type": "markdown",
   "id": "af97da5f",
   "metadata": {},
   "source": [
    "# Function to create a random QUBO instance:\n",
    "\n",
    "## We consider a general QUBO function $f(\\boldsymbol{x}) = \\sum_{i<j} J_{i,j} x_i x_j + \\sum_{i} h_{i} x_i$, where $J_{i,j}, h_i \\in [-10,10]$ and $x_i \\in [-1,1]$. The code below considers an Erdos-Renyi random graph with random edges on 'n' nodes to fix the couplings $\\langle i,j \\rangle$. Thereafter we sample, $J_{i,j}, h_i$ from a unifrom distribution over $[-10,10]$ to construct a random instance. Next, we pass the couplings to a function which generates the diagonal of a Hamiltonian. The Hamiltonian is straigtforwardly constructed by following a vector space embedding: \n",
    "\\begin{equation}\n",
    "x_i \\to Z_i, \\\\\n",
    "\\times \\to \\otimes.\n",
    "\\end{equation}"
   ]
  },
  {
   "cell_type": "code",
   "execution_count": 7,
   "id": "5f087859",
   "metadata": {},
   "outputs": [],
   "source": [
    "def QUBO_inst_rand(n): \n",
    "    m = np.random.randint(1, high = n*(n-1)/2)\n",
    "    G = nx.gnm_random_graph(n, m)\n",
    "    edges = list(G.edges)\n",
    "    edge_info = [(*x, np.random.randint(low = -10, high = 10)) for x in edges]\n",
    "    diags = [np.random.randint(low = -10, high = 10) for x in np.arange(n)]\n",
    "    return edge_info, diags\n",
    "\n",
    "def QUBO_Hamiltonian(n, edge_info, diags):\n",
    "    Z, Id, H = [1,-1], [1,1], np.zeros(2**n) \n",
    "    \n",
    "    def tensor(k):\n",
    "        t = k[0]\n",
    "        i = 1\n",
    "        while i < len(k) :\n",
    "            t = np.kron(t,k[i])\n",
    "            i+=1\n",
    "        return t\n",
    "    \n",
    "    for x in edge_info:\n",
    "        tensor_array = [Id]*n \n",
    "        tensor_array[x[0]] = Z\n",
    "        tensor_array[x[1]] = Z\n",
    "        H+= x[2]*tensor(tensor_array)\n",
    "    \n",
    "    for i in range(n):\n",
    "        tensor_array = [Id]*n \n",
    "        tensor_array[i] = Z\n",
    "        H+= diags[i]*tensor(tensor_array)\n",
    "        \n",
    "    return H"
   ]
  },
  {
   "cell_type": "code",
   "execution_count": 225,
   "id": "b57ef59d",
   "metadata": {},
   "outputs": [
    {
     "name": "stdout",
     "output_type": "stream",
     "text": [
      "optimal_assignments: ['00110001']\n",
      "min_QUBO: -51.0\n",
      "\n",
      "\n",
      " QAOA:\n",
      " Depth: 5 \n",
      " Error: 0.8121005596433974 \n",
      " QAOA_Eg: -50.1878994403566 \n",
      " Exact_Eg: -51.0 \n",
      " Overlap: 0.8418207922877954 \n",
      " Exe_time: 1.2683489322662354 \n",
      " Iternations: 583.0\n"
     ]
    }
   ],
   "source": [
    "n = 8\n",
    "Adj, Diag = QUBO_inst_rand(n)\n",
    "H = QUBO_Hamiltonian(n, Adj, Diag)\n",
    "E_min = np.min(H)\n",
    "optimal_idx = np.where(H == E_min)[0]\n",
    "optimal_assignments = [np.binary_repr(x , n) for x in optimal_idx]\n",
    "print(f'optimal_assignments: {optimal_assignments}\\nmin_QUBO: {E_min}\\n\\n')\n",
    "Depth = 5\n",
    "Q = QA.QAOA(Depth, H)\n",
    "Q.run_heuristic_LW()\n",
    "print(' QAOA:',end = '\\n')\n",
    "print(Q.log)"
   ]
  },
  {
   "cell_type": "code",
   "execution_count": null,
   "id": "0ce07b71",
   "metadata": {},
   "outputs": [],
   "source": []
  }
 ],
 "metadata": {
  "kernelspec": {
   "display_name": "Python 3 (ipykernel)",
   "language": "python",
   "name": "python3"
  },
  "language_info": {
   "codemirror_mode": {
    "name": "ipython",
    "version": 3
   },
   "file_extension": ".py",
   "mimetype": "text/x-python",
   "name": "python",
   "nbconvert_exporter": "python",
   "pygments_lexer": "ipython3",
   "version": "3.10.6"
  }
 },
 "nbformat": 4,
 "nbformat_minor": 5
}
